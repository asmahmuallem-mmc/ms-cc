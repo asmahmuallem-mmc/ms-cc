{
 "cells": [
  {
   "cell_type": "code",
   "execution_count": 1,
   "id": "d62660d5-7d17-40c2-b29d-0bcbbca404e8",
   "metadata": {},
   "outputs": [
    {
     "name": "stdout",
     "output_type": "stream",
     "text": [
      "Server listening on localhost:8000\n",
      "Connection from ('127.0.0.1', 54058)\n",
      "Received: GET / HTTP/1.1\n",
      "Host: 127.0.0.1:8000\n",
      "Connection: keep-alive\n",
      "sec-ch-ua: \"Google Chrome\";v=\"137\", \"Chromium\";v=\"137\", \"Not/A)Brand\";v=\"24\"\n",
      "sec-ch-ua-mobile: ?0\n",
      "sec-ch-ua-platform: \"macOS\"\n",
      "Upgrade-Insecure-Requests: 1\n",
      "User-Agent: Mozilla/5.0 (Macintosh; Intel Mac OS X 10_15_7) AppleWebKit/537.36 (KHTML, like Gecko) Chrome/137.0.0.0 Safari/537.36\n",
      "Accept: text/html,application/xhtml+xml,application/xml;q=0.9,image/avif,image/webp,image/apng,*/*;q=0.8,application/signed-exchange;v=b3;q=0.7\n",
      "Sec-Fetch-Site: none\n",
      "Sec-Fetch-Mode: navigate\n",
      "Sec-Fetch-User: ?1\n",
      "Sec-Fetch-Dest: document\n",
      "Accept-Encoding: gzip, deflate, br, zstd\n",
      "Accept-Language: en-US,en;q=0.9\n",
      "Cookie: session=8291625d-af38-465b-b273-2d4ac73608f7.wGMGQR3tv9ibxD0VSSFeLRv-Cjg\n",
      "\n",
      "\n"
     ]
    }
   ],
   "source": [
    "import socket\n",
    "\n",
    "## Create a socket\n",
    "server_socket = socket.socket(socket.AF_INET, socket.SOCK_STREAM)\n",
    "\n",
    "## Bind the socket to a specific IP and port\n",
    "server_socket.bind(('localhost', 8000))\n",
    "\n",
    "## Listen for incoming connections\n",
    "server_socket.listen(1)\n",
    "\n",
    "print('Server listening on localhost:8000')\n",
    "\n",
    "## Accept a connection\n",
    "client_socket, addr = server_socket.accept()\n",
    "print(f'Connection from {addr}')\n",
    "\n",
    "## Receive data from the client\n",
    "data = client_socket.recv(1024)\n",
    "print(f'Received: {data.decode()}')\n",
    "\n",
    "## Send a response to the client\n",
    "client_socket.sendall(b'Hello, client!')\n",
    "\n",
    "## Close the sockets\n",
    "client_socket.close()\n",
    "server_socket.close()"
   ]
  },
  {
   "cell_type": "code",
   "execution_count": 2,
   "id": "1875ad78-0009-43b3-b9cd-2232b9b73f18",
   "metadata": {},
   "outputs": [
    {
     "ename": "ConnectionRefusedError",
     "evalue": "[Errno 61] Connection refused",
     "output_type": "error",
     "traceback": [
      "\u001b[0;31m---------------------------------------------------------------------------\u001b[0m",
      "\u001b[0;31mConnectionRefusedError\u001b[0m                    Traceback (most recent call last)",
      "Cell \u001b[0;32mIn[2], line 8\u001b[0m\n\u001b[1;32m      5\u001b[0m client_socket \u001b[38;5;241m=\u001b[39m socket\u001b[38;5;241m.\u001b[39msocket(socket\u001b[38;5;241m.\u001b[39mAF_INET, socket\u001b[38;5;241m.\u001b[39mSOCK_STREAM)\n\u001b[1;32m      7\u001b[0m \u001b[38;5;66;03m## Connect to the server\u001b[39;00m\n\u001b[0;32m----> 8\u001b[0m client_socket\u001b[38;5;241m.\u001b[39mconnect((\u001b[38;5;124m'\u001b[39m\u001b[38;5;124mlocalhost\u001b[39m\u001b[38;5;124m'\u001b[39m, \u001b[38;5;241m8000\u001b[39m))\n\u001b[1;32m     10\u001b[0m \u001b[38;5;66;03m## Send data to the server\u001b[39;00m\n\u001b[1;32m     11\u001b[0m client_socket\u001b[38;5;241m.\u001b[39msendall(\u001b[38;5;124mb\u001b[39m\u001b[38;5;124m'\u001b[39m\u001b[38;5;124mHello, server!\u001b[39m\u001b[38;5;124m'\u001b[39m)\n",
      "\u001b[0;31mConnectionRefusedError\u001b[0m: [Errno 61] Connection refused"
     ]
    }
   ],
   "source": [
    "## Client\n",
    "import socket\n",
    "\n",
    "## Create a socket\n",
    "client_socket = socket.socket(socket.AF_INET, socket.SOCK_STREAM)\n",
    "\n",
    "## Connect to the server\n",
    "client_socket.connect(('localhost', 8000))\n",
    "\n",
    "## Send data to the server\n",
    "client_socket.sendall(b'Hello, server!')\n",
    "\n",
    "## Receive a response from the server\n",
    "data = client_socket.recv(1024)\n",
    "print(f'Received: {data.decode()}')\n",
    "\n",
    "## Close the socket\n",
    "client_socket.close()"
   ]
  },
  {
   "cell_type": "code",
   "execution_count": null,
   "id": "d056372a-8c4c-44e0-ba64-2b9a08654fd5",
   "metadata": {},
   "outputs": [],
   "source": [
    "\\"
   ]
  },
  {
   "cell_type": "code",
   "execution_count": null,
   "id": "4836f15c-4fe7-4b8c-8ea5-63ab292deff5",
   "metadata": {},
   "outputs": [],
   "source": []
  }
 ],
 "metadata": {
  "kernelspec": {
   "display_name": "Python [conda env:base] *",
   "language": "python",
   "name": "conda-base-py"
  },
  "language_info": {
   "codemirror_mode": {
    "name": "ipython",
    "version": 3
   },
   "file_extension": ".py",
   "mimetype": "text/x-python",
   "name": "python",
   "nbconvert_exporter": "python",
   "pygments_lexer": "ipython3",
   "version": "3.12.7"
  }
 },
 "nbformat": 4,
 "nbformat_minor": 5
}
